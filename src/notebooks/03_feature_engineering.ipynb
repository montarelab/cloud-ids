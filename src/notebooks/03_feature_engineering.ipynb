{
 "cells": [
  {
   "cell_type": "markdown",
   "id": "4e46e245-89f6-4e60-a4c1-f249f2b1dd3a",
   "metadata": {},
   "source": [
    "# Feature Selection\n",
    "**Target:** prepare data for Modelling\n",
    "Includes 2 stages: \n",
    "- Drop string columns made for EDA: super_class and super_service\n",
    "- Drop service\n",
    "- Map target columns \"class\" from \"normal - some attack\" to \"0 - 1\"\n",
    "- Apply OneHotEncoder to protocol_type and flag"
   ]
  },
  {
   "cell_type": "markdown",
   "id": "08bb9ad9-3ba9-43ce-8ac7-f3223c1df7ea",
   "metadata": {},
   "source": [
    "### Imports"
   ]
  },
  {
   "cell_type": "code",
   "execution_count": 33,
   "id": "715a6407-322b-4647-9c2e-380fe9bd9190",
   "metadata": {},
   "outputs": [
    {
     "name": "stderr",
     "output_type": "stream",
     "text": [
      "UsageError: unrecognized arguments: columns\n"
     ]
    }
   ],
   "source": [
    "import numpy as np\n",
    "import pandas as pd\n",
    "import warnings\n",
    "from sklearn.preprocessing import RobustScaler\n",
    "import sys\n",
    "sys.path.append('../')\n",
    "pd.set_option('display.max_columns',None)\n",
    "warnings.filterwarnings('ignore')\n",
    "from src.data_loader import load_test_dataset, load_train_dataset, store_dataset\n",
    "%matplotlib inline columns"
   ]
  },
  {
   "cell_type": "markdown",
   "id": "3160500c-be90-474f-b017-ccb53ac7ec61",
   "metadata": {},
   "source": [
    "### Define function"
   ]
  },
  {
   "cell_type": "code",
   "execution_count": 34,
   "id": "dea7d223-d1b8-4c6d-a18f-a7e2a97250d0",
   "metadata": {},
   "outputs": [],
   "source": [
    "def preprocess(dataframe, services):\n",
    "    dataframe.drop(labels=['super_service', 'super_class'], axis=\"columns\", inplace=True)    \n",
    "    dataframe.loc[dataframe['class'] == \"normal\", \"class\"] = 0\n",
    "    dataframe.loc[dataframe['class'] != 0, \"class\"] = 1\n",
    "    dataframe = pd.get_dummies(dataframe, columns = ['protocol_type', 'flag'])\n",
    "    dataframe = encode_service(dataframe, services)\n",
    "    return dataframe"
   ]
  },
  {
   "cell_type": "markdown",
   "id": "05da82eb-1982-457d-8987-d6c86b9d61ed",
   "metadata": {},
   "source": [
    "### Execute function"
   ]
  },
  {
   "cell_type": "code",
   "execution_count": 44,
   "id": "72145d18-b477-40d5-bb0a-b58e995d4083",
   "metadata": {},
   "outputs": [],
   "source": [
    "def encode_service(df, services):\n",
    "    encoded_service = pd.get_dummies(df['service'])\n",
    "    encoded_service = encoded_service.reindex(columns=services, fill_value=0)\n",
    "    df_encoded = df.drop(columns=['service']).reset_index(drop=True)\n",
    "    df_encoded = pd.concat([df_encoded, encoded_service], axis=1)\n",
    "    return df_encoded"
   ]
  },
  {
   "cell_type": "code",
   "execution_count": 45,
   "id": "86664668-e6c6-4170-bdf8-65fd64dd2c7b",
   "metadata": {},
   "outputs": [],
   "source": [
    "def get_unique_services(datasets):\n",
    "    return np.unique(np.concatenate([df['service'].unique() for df in datasets]))"
   ]
  },
  {
   "cell_type": "code",
   "execution_count": 55,
   "id": "8fd4d20c-dd1f-47ce-9901-2ab4d66dc82b",
   "metadata": {},
   "outputs": [
    {
     "name": "stdout",
     "output_type": "stream",
     "text": [
      "<class 'pandas.core.frame.DataFrame'>\n",
      "RangeIndex: 125973 entries, 0 to 125972\n",
      "Columns: 124 entries, duration to whois\n",
      "dtypes: bool(84), float64(15), int64(24), object(1)\n",
      "memory usage: 48.5+ MB\n",
      "<class 'pandas.core.frame.DataFrame'>\n",
      "RangeIndex: 22543 entries, 0 to 22542\n",
      "Columns: 124 entries, duration to whois\n",
      "dtypes: bool(78), float64(15), int64(30), object(1)\n",
      "memory usage: 9.6+ MB\n"
     ]
    }
   ],
   "source": [
    "datasets = [load_train_dataset(purpose='eda'), load_test_dataset(purpose='eda')] \n",
    "targets = ['train', 'test']\n",
    "result = []\n",
    "\n",
    "services = get_unique_services(datasets)\n",
    "\n",
    "for df, target in zip(datasets, targets):\n",
    "    df = preprocess(df, services)\n",
    "    result.append(df)\n",
    "    store_dataset(df=df, purpose='modelling', target=target)\n",
    "    df.info()"
   ]
  },
  {
   "cell_type": "code",
   "execution_count": 57,
   "id": "5ba681a7-cc70-44db-a6a4-9137b95bb21a",
   "metadata": {},
   "outputs": [
    {
     "name": "stdout",
     "output_type": "stream",
     "text": [
      "Columns in df2 but not in df1: set()\n"
     ]
    }
   ],
   "source": []
  },
  {
   "cell_type": "code",
   "execution_count": null,
   "id": "4a4bb9ad-78a5-4f60-ba2b-d18b6bc89c0a",
   "metadata": {},
   "outputs": [],
   "source": []
  }
 ],
 "metadata": {
  "kernelspec": {
   "display_name": "Python 3 (ipykernel)",
   "language": "python",
   "name": "python3"
  },
  "language_info": {
   "codemirror_mode": {
    "name": "ipython",
    "version": 3
   },
   "file_extension": ".py",
   "mimetype": "text/x-python",
   "name": "python",
   "nbconvert_exporter": "python",
   "pygments_lexer": "ipython3",
   "version": "3.11.10"
  }
 },
 "nbformat": 4,
 "nbformat_minor": 5
}
