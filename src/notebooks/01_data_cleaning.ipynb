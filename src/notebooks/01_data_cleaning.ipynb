{
 "cells": [
  {
   "cell_type": "markdown",
   "id": "4e46e245-89f6-4e60-a4c1-f249f2b1dd3a",
   "metadata": {},
   "source": [
    "# Data Cleaning\n",
    "**Target**: To prepare the dataset before EDA\n",
    "Consists of 3 stages:\n",
    "1. Define function\n",
    "2. Preprocess and store\n",
    "3. Check for correctness"
   ]
  },
  {
   "cell_type": "markdown",
   "id": "08bb9ad9-3ba9-43ce-8ac7-f3223c1df7ea",
   "metadata": {},
   "source": [
    "### Imports"
   ]
  },
  {
   "cell_type": "code",
   "execution_count": 1,
   "id": "715a6407-322b-4647-9c2e-380fe9bd9190",
   "metadata": {},
   "outputs": [],
   "source": [
    "import pandas as pd\n",
    "import sys\n",
    "sys.path.append('../')\n",
    "pd.set_option('display.max_columns',None)\n",
    "import warnings\n",
    "warnings.filterwarnings('ignore')\n",
    "pd.options.display.max_rows = 10  # Show only 10 rows by default\n",
    "pd.options.display.html.border = 2  # Add border for clarity\n",
    "from src.cleaning import add_super_class, add_super_service, get_columns\n",
    "from src.data_loader import store_dataset, load_test_dataset, load_train_dataset"
   ]
  },
  {
   "cell_type": "markdown",
   "id": "3160500c-be90-474f-b017-ccb53ac7ec61",
   "metadata": {},
   "source": [
    "### Define function\n",
    "The function does 4 key actions:\n",
    "1. Assigns columns to datasets\n",
    "2. Adds Supper Service - grouping of services\n",
    "3. Adds Super Class - grouping of classes of attacks\n",
    "4. Saves as .csv"
   ]
  },
  {
   "cell_type": "code",
   "execution_count": 5,
   "id": "dea7d223-d1b8-4c6d-a18f-a7e2a97250d0",
   "metadata": {},
   "outputs": [],
   "source": [
    "\n",
    "def process_dataset(target: str):\n",
    "    df = load_test_dataset(raw=True) if target == 'test' else load_train_dataset(raw=True)\n",
    "    df.columns = get_columns()\n",
    "    add_super_service(df)\n",
    "    add_super_class(df)\n",
    "    store_dataset(df, target=target, purpose='eda')\n",
    "    return df"
   ]
  },
  {
   "cell_type": "code",
   "execution_count": 6,
   "id": "8fd4d20c-dd1f-47ce-9901-2ab4d66dc82b",
   "metadata": {},
   "outputs": [],
   "source": [
    "datasets = []\n",
    "\n",
    "for target in ['train', 'test']:\n",
    "    df = process_dataset(target)\n",
    "    datasets.append(df)"
   ]
  },
  {
   "cell_type": "markdown",
   "id": "dfb6a975-654e-497e-a4d4-9745ce8e785b",
   "metadata": {},
   "source": [
    "## Ensure validity"
   ]
  },
  {
   "cell_type": "code",
   "execution_count": 7,
   "id": "d120e609-8515-4978-9c65-430c48887000",
   "metadata": {},
   "outputs": [
    {
     "name": "stdout",
     "output_type": "stream",
     "text": [
      "<class 'pandas.core.frame.DataFrame'>\n",
      "RangeIndex: 125973 entries, 0 to 125972\n",
      "Data columns (total 45 columns):\n",
      " #   Column                       Non-Null Count   Dtype  \n",
      "---  ------                       --------------   -----  \n",
      " 0   duration                     125973 non-null  int64  \n",
      " 1   protocol_type                125973 non-null  object \n",
      " 2   service                      125973 non-null  object \n",
      " 3   flag                         125973 non-null  object \n",
      " 4   src_bytes                    125973 non-null  int64  \n",
      " 5   dst_bytes                    125973 non-null  int64  \n",
      " 6   land                         125973 non-null  int64  \n",
      " 7   wrong_fragment               125973 non-null  int64  \n",
      " 8   urgent                       125973 non-null  int64  \n",
      " 9   hot                          125973 non-null  int64  \n",
      " 10  num_failed_logins            125973 non-null  int64  \n",
      " 11  logged_in                    125973 non-null  int64  \n",
      " 12  num_compromised              125973 non-null  int64  \n",
      " 13  root_shell                   125973 non-null  int64  \n",
      " 14  su_attempted                 125973 non-null  int64  \n",
      " 15  num_root                     125973 non-null  int64  \n",
      " 16  num_file_creations           125973 non-null  int64  \n",
      " 17  num_shells                   125973 non-null  int64  \n",
      " 18  num_access_files             125973 non-null  int64  \n",
      " 19  num_outbound_cmds            125973 non-null  int64  \n",
      " 20  is_host_login                125973 non-null  int64  \n",
      " 21  is_guest_login               125973 non-null  int64  \n",
      " 22  count                        125973 non-null  int64  \n",
      " 23  srv_count                    125973 non-null  int64  \n",
      " 24  serror_rate                  125973 non-null  float64\n",
      " 25  srv_serror_rate              125973 non-null  float64\n",
      " 26  rerror_rate                  125973 non-null  float64\n",
      " 27  srv_rerror_rate              125973 non-null  float64\n",
      " 28  same_srv_rate                125973 non-null  float64\n",
      " 29  diff_srv_rate                125973 non-null  float64\n",
      " 30  srv_diff_host_rate           125973 non-null  float64\n",
      " 31  dst_host_count               125973 non-null  int64  \n",
      " 32  dst_host_srv_count           125973 non-null  int64  \n",
      " 33  dst_host_same_srv_rate       125973 non-null  float64\n",
      " 34  dst_host_diff_srv_rate       125973 non-null  float64\n",
      " 35  dst_host_same_src_port_rate  125973 non-null  float64\n",
      " 36  dst_host_srv_diff_host_rate  125973 non-null  float64\n",
      " 37  dst_host_serror_rate         125973 non-null  float64\n",
      " 38  dst_host_srv_serror_rate     125973 non-null  float64\n",
      " 39  dst_host_rerror_rate         125973 non-null  float64\n",
      " 40  dst_host_srv_rerror_rate     125973 non-null  float64\n",
      " 41  class                        125973 non-null  object \n",
      " 42  level                        125973 non-null  int64  \n",
      " 43  super_service                125973 non-null  object \n",
      " 44  super_class                  125973 non-null  object \n",
      "dtypes: float64(15), int64(24), object(6)\n",
      "memory usage: 43.2+ MB\n",
      "<class 'pandas.core.frame.DataFrame'>\n",
      "RangeIndex: 22543 entries, 0 to 22542\n",
      "Data columns (total 45 columns):\n",
      " #   Column                       Non-Null Count  Dtype  \n",
      "---  ------                       --------------  -----  \n",
      " 0   duration                     22543 non-null  int64  \n",
      " 1   protocol_type                22543 non-null  object \n",
      " 2   service                      22543 non-null  object \n",
      " 3   flag                         22543 non-null  object \n",
      " 4   src_bytes                    22543 non-null  int64  \n",
      " 5   dst_bytes                    22543 non-null  int64  \n",
      " 6   land                         22543 non-null  int64  \n",
      " 7   wrong_fragment               22543 non-null  int64  \n",
      " 8   urgent                       22543 non-null  int64  \n",
      " 9   hot                          22543 non-null  int64  \n",
      " 10  num_failed_logins            22543 non-null  int64  \n",
      " 11  logged_in                    22543 non-null  int64  \n",
      " 12  num_compromised              22543 non-null  int64  \n",
      " 13  root_shell                   22543 non-null  int64  \n",
      " 14  su_attempted                 22543 non-null  int64  \n",
      " 15  num_root                     22543 non-null  int64  \n",
      " 16  num_file_creations           22543 non-null  int64  \n",
      " 17  num_shells                   22543 non-null  int64  \n",
      " 18  num_access_files             22543 non-null  int64  \n",
      " 19  num_outbound_cmds            22543 non-null  int64  \n",
      " 20  is_host_login                22543 non-null  int64  \n",
      " 21  is_guest_login               22543 non-null  int64  \n",
      " 22  count                        22543 non-null  int64  \n",
      " 23  srv_count                    22543 non-null  int64  \n",
      " 24  serror_rate                  22543 non-null  float64\n",
      " 25  srv_serror_rate              22543 non-null  float64\n",
      " 26  rerror_rate                  22543 non-null  float64\n",
      " 27  srv_rerror_rate              22543 non-null  float64\n",
      " 28  same_srv_rate                22543 non-null  float64\n",
      " 29  diff_srv_rate                22543 non-null  float64\n",
      " 30  srv_diff_host_rate           22543 non-null  float64\n",
      " 31  dst_host_count               22543 non-null  int64  \n",
      " 32  dst_host_srv_count           22543 non-null  int64  \n",
      " 33  dst_host_same_srv_rate       22543 non-null  float64\n",
      " 34  dst_host_diff_srv_rate       22543 non-null  float64\n",
      " 35  dst_host_same_src_port_rate  22543 non-null  float64\n",
      " 36  dst_host_srv_diff_host_rate  22543 non-null  float64\n",
      " 37  dst_host_serror_rate         22543 non-null  float64\n",
      " 38  dst_host_srv_serror_rate     22543 non-null  float64\n",
      " 39  dst_host_rerror_rate         22543 non-null  float64\n",
      " 40  dst_host_srv_rerror_rate     22543 non-null  float64\n",
      " 41  class                        22543 non-null  object \n",
      " 42  level                        22543 non-null  int64  \n",
      " 43  super_service                22543 non-null  object \n",
      " 44  super_class                  22543 non-null  object \n",
      "dtypes: float64(15), int64(24), object(6)\n",
      "memory usage: 7.7+ MB\n"
     ]
    }
   ],
   "source": [
    "for ds in datasets:\n",
    "    ds.info()"
   ]
  },
  {
   "cell_type": "code",
   "execution_count": null,
   "id": "bf7ebe70-af95-4369-841e-5c03cd21f5b5",
   "metadata": {},
   "outputs": [],
   "source": []
  }
 ],
 "metadata": {
  "kernelspec": {
   "display_name": "Python 3 (ipykernel)",
   "language": "python",
   "name": "python3"
  },
  "language_info": {
   "codemirror_mode": {
    "name": "ipython",
    "version": 3
   },
   "file_extension": ".py",
   "mimetype": "text/x-python",
   "name": "python",
   "nbconvert_exporter": "python",
   "pygments_lexer": "ipython3",
   "version": "3.11.10"
  }
 },
 "nbformat": 4,
 "nbformat_minor": 5
}
